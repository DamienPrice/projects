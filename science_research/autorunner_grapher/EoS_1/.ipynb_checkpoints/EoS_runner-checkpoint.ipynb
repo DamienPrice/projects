{
 "cells": [
  {
   "cell_type": "code",
   "execution_count": 24,
   "metadata": {},
   "outputs": [
    {
     "name": "stdout",
     "output_type": "stream",
     "text": [
      "/home/busterdancy/Dropbox/auto_EoS_dir/EoS_1/input/parameters_dir\n",
      "[]\n"
     ]
    }
   ],
   "source": [
    "import os\n",
    "import subprocess\n",
    "\n",
    "para_dir_path = os.path.join(os.getcwd(),'input/parameters_dir')\n",
    "pfiles_list = os.listdir(para_dir_path)\n",
    "for i in pfiles_list:\n",
    "    input_parameter_file = os.path.join(para_dir_path, i)\n",
    "    subprocess.run(['./EoS', input_parameter_file])"
   ]
  }
 ],
 "metadata": {
  "kernelspec": {
   "display_name": "Python 3",
   "language": "python",
   "name": "python3"
  },
  "language_info": {
   "codemirror_mode": {
    "name": "ipython",
    "version": 3
   },
   "file_extension": ".py",
   "mimetype": "text/x-python",
   "name": "python",
   "nbconvert_exporter": "python",
   "pygments_lexer": "ipython3",
   "version": "3.7.6"
  }
 },
 "nbformat": 4,
 "nbformat_minor": 4
}
