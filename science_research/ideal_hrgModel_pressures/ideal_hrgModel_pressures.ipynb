{
 "cells": [
  {
   "cell_type": "markdown",
   "metadata": {},
   "source": [
    "**Prelims**"
   ]
  },
  {
   "cell_type": "code",
   "execution_count": null,
   "metadata": {},
   "outputs": [],
   "source": [
    "import os\n",
    "import numpy as np\n",
    "from numpy import multiply as mult\n",
    "from numpy import power as pwr\n",
    "from numpy import divide as div\n",
    "from numpy import add as add\n",
    "from numpy import pi as pi\n",
    "from numpy import exp as exp\n",
    "from numpy import log as log\n",
    "from numpy import sqrt as sqrt\n",
    "from numpy import square as squ\n",
    "from scipy.integrate import quad\n",
    "tpis = 2*pi**2"
   ]
  },
  {
   "cell_type": "markdown",
   "metadata": {},
   "source": [
    "**Retrieving Data**"
   ]
  },
  {
   "cell_type": "code",
   "execution_count": null,
   "metadata": {},
   "outputs": [],
   "source": [
    "#retrieving data and file creation\n",
    "cwd = os.getcwd()\n",
    "particle_file = 'particleData_pdg2016plusnew_demo' #particle data\n",
    "chempot_file = 'chemical_potentials_demo' #chempot data\n",
    "filename = 'ihrgPressures_pdg2016plusnew' #output filename\n",
    "particles = np.genfromtxt(os.path.join(cwd,particle_file)).astype('float128')\n",
    "chempot = np.genfromtxt(os.path.join(cwd,chempot_file)).astype('float128')\n",
    "with open(os.path.join(cwd,filename),'w') as f: #to verify file can be made\n",
    "    pass\n",
    "\n",
    "#remove photon from particle data\n",
    "col = particles[:,0]\n",
    "ind22 = np.where(col==22)[0]\n",
    "particles = np.delete(particles,ind22,axis=0)\n",
    "\n",
    "#columns to arrays of particles data\n",
    "mi,di,bi,si,qi = particles[:,2],particles[:,4],particles[:,5],particles[:,6],particles[:,10]"
   ]
  },
  {
   "cell_type": "markdown",
   "metadata": {},
   "source": [
    "**Pre-Integration Components**"
   ]
  },
  {
   "cell_type": "code",
   "execution_count": null,
   "metadata": {},
   "outputs": [],
   "source": [
    "pi = mult(pwr(-1,bi+1),div(di,tpis)) #pre-integral w/o temp array"
   ]
  },
  {
   "cell_type": "code",
   "execution_count": null,
   "metadata": {},
   "outputs": [],
   "source": [
    "xi = pwr(-1,bi+1) #pre-exponent array"
   ]
  },
  {
   "cell_type": "markdown",
   "metadata": {},
   "source": [
    "**Main Calculation**"
   ]
  },
  {
   "cell_type": "markdown",
   "metadata": {},
   "source": [
    "##### *Integrand*"
   ]
  },
  {
   "cell_type": "code",
   "execution_count": null,
   "metadata": {},
   "outputs": [],
   "source": [
    "def integrand(p,xi,mi,ei,t):\n",
    "    return mult(p**2,log(add(1,mult(xi,exp(div(ei-sqrt(p**2+squ(mi)),t))))))"
   ]
  },
  {
   "cell_type": "markdown",
   "metadata": {},
   "source": [
    "##### *Integration*"
   ]
  },
  {
   "cell_type": "code",
   "execution_count": null,
   "metadata": {},
   "outputs": [],
   "source": [
    "def integrate(xi,mi,ei,t):\n",
    "    return quad(integrand,0,np.inf,args=(xi,mi,ei,t))[0]\n",
    "\n",
    "integrate_vec = np.vectorize(integrate)"
   ]
  },
  {
   "cell_type": "markdown",
   "metadata": {},
   "source": [
    "##### *Main Function*"
   ]
  },
  {
   "cell_type": "code",
   "execution_count": null,
   "metadata": {},
   "outputs": [],
   "source": [
    "def main(row): #takes in each smash row\n",
    "    t = row[0]\n",
    "    pit = mult(pi,pwr(t,-3)) #pre-integral with temp array, it's T^-3 bc we want P/T^4\n",
    "    bei,sei,qei = mult(bi,row[1]),mult(si,row[2]),mult(qi,row[3]) #components of end of integral \n",
    "    cei = np.array([bei,sei,qei])\n",
    "    ei = np.sum(cei,axis=0) #end of integral sum array\n",
    "    grals = integrate_vec(xi,mi,ei,t) #array of all the integrals per row in particles data\n",
    "    pitgrals = mult(pit,grals) #array of complete quantities to be summed\n",
    "    fullsum = np.sum(pitgrals,axis=0)#sum of all complete quantities w/ all particle rows w/ 1 temp\n",
    "    return fullsum"
   ]
  },
  {
   "cell_type": "markdown",
   "metadata": {},
   "source": [
    "Table"
   ]
  },
  {
   "cell_type": "code",
   "execution_count": null,
   "metadata": {},
   "outputs": [],
   "source": [
    "%%time\n",
    "res = map(main,chempot) #results of all summing with integrations; most time consuming part\n",
    "pressure = np.array(list(res)) #pressure array\n",
    "temps = np.round(chempot[:,0],decimals=3) #this is done bc for an unknown reason savetxt alters values; this forces the correct value\n",
    "allvalues = np.array([temps,chempot[:,1],chempot[:,2],chempot[:,3],pressure]) #T,muB,muS,muQ,P\n",
    "table = np.transpose(allvalues)"
   ]
  },
  {
   "cell_type": "markdown",
   "metadata": {},
   "source": [
    "Create File"
   ]
  },
  {
   "cell_type": "code",
   "execution_count": null,
   "metadata": {},
   "outputs": [],
   "source": [
    "path = os.path.join(cwd,filename)\n",
    "np.savetxt(path,table,fmt='%1.3f\\t%1.15e\\t%1.15e\\t%1.15e\\t%1.15e')\n",
    "print('Task Complete')"
   ]
  }
 ],
 "metadata": {
  "kernelspec": {
   "display_name": "Python 3 (ipykernel)",
   "language": "python",
   "name": "python3"
  },
  "language_info": {
   "codemirror_mode": {
    "name": "ipython",
    "version": 3
   },
   "file_extension": ".py",
   "mimetype": "text/x-python",
   "name": "python",
   "nbconvert_exporter": "python",
   "pygments_lexer": "ipython3",
   "version": "3.10.12"
  }
 },
 "nbformat": 4,
 "nbformat_minor": 4
}
